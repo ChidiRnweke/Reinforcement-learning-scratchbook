{
 "cells": [
  {
   "attachments": {},
   "cell_type": "markdown",
   "metadata": {},
   "source": [
    "A gambler has the opportunity to make bets on\n",
    "the outcomes of a sequence of coin flips. If the coin comes up heads, he wins as many\n",
    "dollars as he has staked on that flip; if it is tails, he loses his stake. The game ends\n",
    "when the gambler wins by reaching his goal of $100, or loses by running out of money.\n",
    "On each flip, the gambler must decide what portion of his capital to stake, in integer\n",
    "numbers of dollars. This problem can be formulated as an undiscounted, episodic, finite\n",
    "\n",
    "The reward is zero on all transitions\n",
    "except those on which the gambler\n",
    "reaches his goal, when it is +1.\n",
    "The state-value function then gives\n",
    "the probability of winning from each\n",
    "state. A policy is a mapping from\n",
    "levels of capital to stakes. The optimal\n",
    "policy maximizes the probability\n",
    "of reaching the goal."
   ]
  },
  {
   "cell_type": "code",
   "execution_count": 1,
   "metadata": {},
   "outputs": [],
   "source": [
    "import numpy as np\n",
    "from GamblerEnv import GamblerEnv, MonteCarloAgent\n",
    "import matplotlib.pyplot as plt"
   ]
  },
  {
   "cell_type": "code",
   "execution_count": 2,
   "metadata": {},
   "outputs": [],
   "source": [
    "actions = np.arange(100) \n",
    "stateValues = np.zeros(shape=101)\n",
    "policy = np.random.randint(100, size = 101)\n",
    "policy = np.clip(policy, a_min=0, a_max=np.arange(101))"
   ]
  },
  {
   "cell_type": "code",
   "execution_count": 3,
   "metadata": {},
   "outputs": [],
   "source": [
    "R = np.zeros(shape=(101, 100))\n",
    "R[100, :] = 1\n",
    "pSucces = 0.4\n",
    "\n",
    "for state in range(101):\n",
    "    for action in range(100): \n",
    "        if action > state:  continue\n",
    "        succes = np.clip(state + action, a_min=0, a_max=100)\n",
    "        failure = np.clip(state - action, a_min=0, a_max=100)\n",
    "        if succes == 100: R[state, action] = 1"
   ]
  },
  {
   "cell_type": "code",
   "execution_count": 4,
   "metadata": {},
   "outputs": [],
   "source": [
    "def move_all(state, actions, reward):\n",
    "    resultingStatesSuccess = np.zeros(state+1, dtype=int)\n",
    "    resultingStatesFailure = np.zeros(state+1, dtype=int)\n",
    "    rewards = np.zeros(state+1, dtype=int)\n",
    "    \n",
    "    for action in actions:\n",
    "        if action > state:  break\n",
    "        nextStateSuccess = state + action\n",
    "        rewards[action] = reward[state, action]\n",
    "        nextStateSuccess = np.clip(nextStateSuccess, a_min = 0, a_max=100)\n",
    "        resultingStatesSuccess[action] = nextStateSuccess\n",
    "\n",
    "        nextStateFailure = state - action\n",
    "        nextStateFailure = np.clip(nextStateFailure, a_min = 0, a_max=100)\n",
    "        resultingStatesFailure[action] = nextStateFailure  \n",
    "    return resultingStatesSuccess, resultingStatesFailure, rewards\n",
    "    "
   ]
  },
  {
   "cell_type": "code",
   "execution_count": 5,
   "metadata": {},
   "outputs": [],
   "source": [
    "def valueIteration(stateValues, rewards, actions, discount, theta, n_iter, ph = 0.4, breakTie=False):\n",
    "    stateVals = stateValues.copy()\n",
    "    policy = np.zeros(101, dtype=int)\n",
    "    for i in range(n_iter):\n",
    "        delta = 0\n",
    "        for state in reversed(range(1,len(stateValues))):\n",
    "            currentValue = stateVals[state].copy()\n",
    "            nextStateWins, nextStateLosses, nextRewardsW = move_all(state, actions, rewards)\n",
    "\n",
    "            nextStateValuesW = np.take(stateVals, nextStateWins)\n",
    "            nextStateValuesL = np.take(stateVals, nextStateLosses)\n",
    "\n",
    "            valuesWin = nextRewardsW + (discount * nextStateValuesW)\n",
    "            valuesLosses = discount * nextStateValuesL\n",
    "                \n",
    "            values = (ph * valuesWin) + ((1- ph) * valuesLosses)\n",
    "\n",
    "            stateVals[state] = np.max(values)\n",
    "\n",
    "            if breakTie:\n",
    "                bestActions = np.flatnonzero(values == np.max(values))\n",
    "                bestAction = np.random.choice(bestActions) if len(bestActions) > 1 else bestActions[0]\n",
    "                policy[state] = bestAction\n",
    "            else:\n",
    "                policy[state] = np.argmax(values)\n",
    "\n",
    "            delta = np.max((delta, np.abs(currentValue - stateVals[state])))\n",
    "        if (i + 1) % 5 == 0: print(f\"Iteration {i+1} completed, remaining delta is {delta}\")\n",
    "        if delta <= theta: break\n",
    "        \n",
    "    return policy, stateVals\n"
   ]
  },
  {
   "cell_type": "code",
   "execution_count": 6,
   "metadata": {},
   "outputs": [
    {
     "name": "stdout",
     "output_type": "stream",
     "text": [
      "Iteration 5 completed, remaining delta is 0.5264275455999998\n",
      "Iteration 10 completed, remaining delta is 0.5030366767319343\n",
      "Iteration 15 completed, remaining delta is 0.4731890669935126\n",
      "Iteration 20 completed, remaining delta is 0.44497710383794953\n",
      "Iteration 25 completed, remaining delta is 0.4184498740655318\n",
      "Iteration 30 completed, remaining delta is 0.3999999999999986\n"
     ]
    }
   ],
   "source": [
    "policy, V = valueIteration(stateValues=stateValues, rewards=R, actions=actions, discount=1, theta=0.4, n_iter=200, ph=0.4)"
   ]
  },
  {
   "cell_type": "code",
   "execution_count": 7,
   "metadata": {},
   "outputs": [
    {
     "data": {
      "text/plain": [
       "<BarContainer object of 101 artists>"
      ]
     },
     "execution_count": 7,
     "metadata": {},
     "output_type": "execute_result"
    },
    {
     "data": {
      "image/png": "[encoded data removed]",
      "text/plain": [
       "<Figure size 864x576 with 1 Axes>"
      ]
     },
     "metadata": {
      "needs_background": "light"
     },
     "output_type": "display_data"
    }
   ],
   "source": [
    "fig, ax = plt.subplots(figsize=(12,8))\n",
    "ax.set_title(\"Gambler's problem with chance of heads = 0.4\")\n",
    "ax.bar(np.arange(101),policy)"
   ]
  },
  {
   "cell_type": "code",
   "execution_count": 8,
   "metadata": {},
   "outputs": [
    {
     "name": "stdout",
     "output_type": "stream",
     "text": [
      "Iteration 5 completed, remaining delta is 0.30769824981689453\n",
      "Iteration 10 completed, remaining delta is 0.25\n"
     ]
    }
   ],
   "source": [
    "policy, V = valueIteration(stateValues=stateValues, rewards=R, actions=actions, discount=1, theta=0.25, n_iter=200, ph=0.25)"
   ]
  },
  {
   "cell_type": "code",
   "execution_count": 9,
   "metadata": {},
   "outputs": [
    {
     "data": {
      "text/plain": [
       "<BarContainer object of 101 artists>"
      ]
     },
     "execution_count": 9,
     "metadata": {},
     "output_type": "execute_result"
    },
    {
     "data": {
      "image/png": "[encoded data removed]",
      "text/plain": [
       "<Figure size 864x576 with 1 Axes>"
      ]
     },
     "metadata": {
      "needs_background": "light"
     },
     "output_type": "display_data"
    }
   ],
   "source": [
    "fig, ax = plt.subplots(figsize=(12,8))\n",
    "ax.set_title(\"Gambler's problem with chance of heads = 0.25\")\n",
    "ax.bar(np.arange(101),policy)"
   ]
  },
  {
   "cell_type": "code",
   "execution_count": 10,
   "metadata": {},
   "outputs": [
    {
     "name": "stdout",
     "output_type": "stream",
     "text": [
      "Iteration 5 completed, remaining delta is 0.7313533042911136\n",
      "Iteration 10 completed, remaining delta is 0.7271849274999651\n",
      "Iteration 15 completed, remaining delta is 0.721658244173156\n",
      "Iteration 20 completed, remaining delta is 0.7163262551406735\n",
      "Iteration 25 completed, remaining delta is 0.711271409320787\n",
      "Iteration 30 completed, remaining delta is 0.7065089511290417\n",
      "Iteration 35 completed, remaining delta is 0.701940895218776\n",
      "Iteration 40 completed, remaining delta is 0.6975737261192521\n",
      "Iteration 45 completed, remaining delta is 0.6936542913376407\n",
      "Iteration 50 completed, remaining delta is 0.6899945044508939\n",
      "Iteration 55 completed, remaining delta is 0.6865961036940647\n",
      "Iteration 60 completed, remaining delta is 0.6833379069852157\n",
      "Iteration 65 completed, remaining delta is 0.6802245247398915\n",
      "Iteration 70 completed, remaining delta is 0.6772538484159654\n",
      "Iteration 75 completed, remaining delta is 0.6744155502905897\n",
      "Iteration 80 completed, remaining delta is 0.6717231882689347\n",
      "Iteration 85 completed, remaining delta is 0.6691528581493174\n",
      "Iteration 90 completed, remaining delta is 0.6667079055765157\n",
      "Iteration 95 completed, remaining delta is 0.6643854538405805\n",
      "Iteration 100 completed, remaining delta is 0.6621754320756992\n",
      "Iteration 105 completed, remaining delta is 0.660054012856591\n",
      "Iteration 110 completed, remaining delta is 0.6580167056325337\n",
      "Iteration 115 completed, remaining delta is 0.656086132838908\n",
      "Iteration 120 completed, remaining delta is 0.6542962902039164\n",
      "Iteration 125 completed, remaining delta is 0.6525820714550719\n",
      "Iteration 130 completed, remaining delta is 0.6509325117331031\n",
      "Iteration 135 completed, remaining delta is 0.6493466430214312\n",
      "Iteration 140 completed, remaining delta is 0.6478219828097451\n",
      "Iteration 145 completed, remaining delta is 0.6463543576468567\n",
      "Iteration 150 completed, remaining delta is 0.6449415942826136\n",
      "Iteration 155 completed, remaining delta is 0.6435811821188651\n",
      "Iteration 160 completed, remaining delta is 0.6422721868269292\n",
      "Iteration 165 completed, remaining delta is 0.641010867230392\n",
      "Iteration 170 completed, remaining delta is 0.6397970743116588\n",
      "Iteration 175 completed, remaining delta is 0.6386289839742858\n",
      "Iteration 180 completed, remaining delta is 0.6375225468574968\n",
      "Iteration 185 completed, remaining delta is 0.6365325980969203\n",
      "Iteration 190 completed, remaining delta is 0.6355737723725952\n",
      "Iteration 195 completed, remaining delta is 0.6346470048061406\n",
      "Iteration 200 completed, remaining delta is 0.6337520158270706\n"
     ]
    }
   ],
   "source": [
    "policy, V = valueIteration(stateValues=stateValues, rewards=R, actions=actions, discount=1, theta=0.55, n_iter=200, ph=0.55)"
   ]
  },
  {
   "cell_type": "code",
   "execution_count": 11,
   "metadata": {},
   "outputs": [
    {
     "data": {
      "text/plain": [
       "<BarContainer object of 101 artists>"
      ]
     },
     "execution_count": 11,
     "metadata": {},
     "output_type": "execute_result"
    },
    {
     "data": {
      "image/png": "[encoded data removed]",
      "text/plain": [
       "<Figure size 864x576 with 1 Axes>"
      ]
     },
     "metadata": {
      "needs_background": "light"
     },
     "output_type": "display_data"
    }
   ],
   "source": [
    "fig, ax = plt.subplots(figsize=(12,8))\n",
    "ax.set_title(\"Gambler's problem with chance of heads = 0.55\")\n",
    "ax.bar(np.arange(101),policy)"
   ]
  },
  {
   "cell_type": "code",
   "execution_count": 1,
   "metadata": {},
   "outputs": [],
   "source": [
    "import numpy as np\n",
    "from GamblerEnv import GamblerEnv, MonteCarloAgent\n",
    "import matplotlib.pyplot as plt"
   ]
  },
  {
   "cell_type": "code",
   "execution_count": 2,
   "metadata": {},
   "outputs": [
    {
     "data": {
      "text/plain": [
       "13"
      ]
     },
     "execution_count": 2,
     "metadata": {},
     "output_type": "execute_result"
    }
   ],
   "source": [
    "env = GamblerEnv(ph=0.4)\n",
    "observation = env.reset()\n",
    "observation"
   ]
  },
  {
   "cell_type": "code",
   "execution_count": 3,
   "metadata": {},
   "outputs": [],
   "source": [
    "agent = MonteCarloAgent(epsilon=0.1)"
   ]
  },
  {
   "cell_type": "code",
   "execution_count": 4,
   "metadata": {},
   "outputs": [
    {
     "data": {
      "text/plain": [
       "array([0, 0, 0, 0, 0, 0, 0, 0, 0, 0, 0, 0, 0, 0, 0, 0, 0, 0, 0, 0, 0, 0,\n",
       "       0, 0, 0, 0, 0, 0, 0, 0, 0, 0, 0, 0, 0, 0, 0, 0, 0, 0, 0, 0, 0, 0,\n",
       "       0, 0, 0, 0, 0, 0, 0, 0, 0, 0, 0, 0, 0, 0, 0, 0, 0, 0, 0, 0, 0, 0,\n",
       "       0, 0, 0, 0, 0, 0, 0, 0, 0, 0, 0, 0, 0, 0, 0, 0, 0, 0, 0, 0, 0, 0,\n",
       "       0, 0, 0, 0, 0, 0, 0, 0, 0, 0, 0, 0, 0], dtype=int64)"
      ]
     },
     "execution_count": 4,
     "metadata": {},
     "output_type": "execute_result"
    }
   ],
   "source": [
    "randomPolicy = np.argmax(agent.policy, axis=1)\n",
    "randomPolicy"
   ]
  },
  {
   "cell_type": "code",
   "execution_count": 5,
   "metadata": {},
   "outputs": [
    {
     "data": {
      "text/plain": [
       "array([0.25, 0.25, 0.25, 0.25, 0.  , 0.  , 0.  , 0.  , 0.  , 0.  , 0.  ,\n",
       "       0.  , 0.  , 0.  , 0.  , 0.  , 0.  , 0.  , 0.  , 0.  , 0.  , 0.  ,\n",
       "       0.  , 0.  , 0.  , 0.  , 0.  , 0.  , 0.  , 0.  , 0.  , 0.  , 0.  ,\n",
       "       0.  , 0.  , 0.  , 0.  , 0.  , 0.  , 0.  , 0.  , 0.  , 0.  , 0.  ,\n",
       "       0.  , 0.  , 0.  , 0.  , 0.  , 0.  , 0.  , 0.  , 0.  , 0.  , 0.  ,\n",
       "       0.  , 0.  , 0.  , 0.  , 0.  , 0.  , 0.  , 0.  , 0.  , 0.  , 0.  ,\n",
       "       0.  , 0.  , 0.  , 0.  , 0.  , 0.  , 0.  , 0.  , 0.  , 0.  , 0.  ,\n",
       "       0.  , 0.  , 0.  , 0.  , 0.  , 0.  , 0.  , 0.  , 0.  , 0.  , 0.  ,\n",
       "       0.  , 0.  , 0.  , 0.  , 0.  , 0.  , 0.  , 0.  , 0.  , 0.  , 0.  ,\n",
       "       0.  ])"
      ]
     },
     "execution_count": 5,
     "metadata": {},
     "output_type": "execute_result"
    }
   ],
   "source": [
    "agent.policy[3, :]"
   ]
  },
  {
   "cell_type": "code",
   "execution_count": 6,
   "metadata": {},
   "outputs": [],
   "source": [
    "max_games = 100000\n",
    "observation = env.reset()\n",
    "iterations = 0\n",
    "\n",
    "while iterations < max_games:\n",
    "    action = agent.move(observation)\n",
    "    observation, reward, terminated = env.step(action)\n",
    "    agent.observeReward(reward)\n",
    "    if terminated:\n",
    "        agent.update()\n",
    "        observation = env.reset()\n",
    "        iterations += 1\n",
    "env.close()"
   ]
  },
  {
   "cell_type": "code",
   "execution_count": 7,
   "metadata": {},
   "outputs": [
    {
     "data": {
      "text/plain": [
       "array([ 0,  0,  1,  3,  3,  2,  1,  7,  5,  8, 10,  3,  9, 13, 14, 13, 16,\n",
       "       13, 11, 10, 12, 21,  5, 14,  5,  3, 26, 27, 24,  0, 12,  9,  4,  3,\n",
       "       23, 33, 18, 20, 32, 39, 12, 41,  4, 39, 18,  3,  6, 34, 47,  9,  8,\n",
       "       16, 49, 49, 46, 12, 53, 48, 42, 47, 13,  4, 36, 42, 27, 42, 34, 33,\n",
       "       19, 40, 30, 14, 18, 10, 30, 10, 10, 29, 52, 25, 24, 20, 20, 17,  1,\n",
       "       21, 14, 43, 16, 19,  2,  5, 17,  7, 13, 16,  7,  6, 24,  7,  3],\n",
       "      dtype=int64)"
      ]
     },
     "execution_count": 7,
     "metadata": {},
     "output_type": "execute_result"
    }
   ],
   "source": [
    "policy = np.argmax(agent.policy, axis=1)\n",
    "policy"
   ]
  },
  {
   "cell_type": "code",
   "execution_count": 8,
   "metadata": {},
   "outputs": [
    {
     "data": {
      "text/plain": [
       "3"
      ]
     },
     "execution_count": 8,
     "metadata": {},
     "output_type": "execute_result"
    }
   ],
   "source": [
    "np.sum(policy == randomPolicy)"
   ]
  },
  {
   "cell_type": "code",
   "execution_count": 9,
   "metadata": {},
   "outputs": [
    {
     "data": {
      "text/plain": [
       "<BarContainer object of 101 artists>"
      ]
     },
     "execution_count": 9,
     "metadata": {},
     "output_type": "execute_result"
    },
    {
     "data": {
      "image/png": "[encoded data removed]",
      "text/plain": [
       "<Figure size 864x576 with 1 Axes>"
      ]
     },
     "metadata": {
      "needs_background": "light"
     },
     "output_type": "display_data"
    }
   ],
   "source": [
    "fig, ax = plt.subplots(figsize=(12,8))\n",
    "ax.set_title(f\"Gambler's problem with chance of heads = {env.ph} (ε-soft Monte carlo method with ε = {agent.epsilon})\")\n",
    "ax.bar(np.arange(101),policy)"
   ]
  },
  {
   "cell_type": "code",
   "execution_count": 40,
   "metadata": {},
   "outputs": [],
   "source": [
    "max_games = 100000\n",
    "env2 = GamblerEnv(ph=0.25)\n",
    "agent2 = MonteCarloAgent(epsilon=0.01)\n",
    "observation = env2.reset()\n",
    "randomPolicy = np.argmax(agent2.policy, axis=1)\n",
    "\n",
    "iterations = 0\n",
    "\n",
    "while iterations < max_games:\n",
    "    action = agent2.move(observation)\n",
    "    observation, reward, terminated = env2.step(action)\n",
    "    agent2.observeReward(reward)\n",
    "    if terminated:\n",
    "        agent2.update()\n",
    "        observation = env2.reset()\n",
    "        iterations += 1\n",
    "env2.close()"
   ]
  },
  {
   "cell_type": "code",
   "execution_count": 11,
   "metadata": {},
   "outputs": [
    {
     "data": {
      "text/plain": [
       "<BarContainer object of 101 artists>"
      ]
     },
     "execution_count": 11,
     "metadata": {},
     "output_type": "execute_result"
    },
    {
     "data": {
      "image/png": "[encoded data removed]",
      "text/plain": [
       "<Figure size 864x576 with 1 Axes>"
      ]
     },
     "metadata": {
      "needs_background": "light"
     },
     "output_type": "display_data"
    }
   ],
   "source": [
    "policy = np.argmax(agent2.policy, axis=1)\n",
    "fig, ax = plt.subplots(figsize=(12,8))\n",
    "ax.set_title(f\"Gambler's problem with chance of heads = {env2.ph} (ε-soft Monte carlo method with ε = {agent2.epsilon})\")\n",
    "ax.bar(np.arange(101),policy)"
   ]
  },
  {
   "cell_type": "code",
   "execution_count": 12,
   "metadata": {},
   "outputs": [
    {
     "data": {
      "text/plain": [
       "3"
      ]
     },
     "execution_count": 12,
     "metadata": {},
     "output_type": "execute_result"
    }
   ],
   "source": [
    "np.sum(randomPolicy == policy)"
   ]
  },
  {
   "cell_type": "code",
   "execution_count": 13,
   "metadata": {},
   "outputs": [],
   "source": [
    "from GamblerEnv import OffPolicyMonteCarloAgent"
   ]
  },
  {
   "cell_type": "code",
   "execution_count": 14,
   "metadata": {},
   "outputs": [
    {
     "data": {
      "text/plain": [
       "array([0.95, 0.05, 0.  , 0.  , 0.  , 0.  , 0.  , 0.  , 0.  , 0.  , 0.  ,\n",
       "       0.  , 0.  , 0.  , 0.  , 0.  , 0.  , 0.  , 0.  , 0.  , 0.  , 0.  ,\n",
       "       0.  , 0.  , 0.  , 0.  , 0.  , 0.  , 0.  , 0.  , 0.  , 0.  , 0.  ,\n",
       "       0.  , 0.  , 0.  , 0.  , 0.  , 0.  , 0.  , 0.  , 0.  , 0.  , 0.  ,\n",
       "       0.  , 0.  , 0.  , 0.  , 0.  , 0.  , 0.  , 0.  , 0.  , 0.  , 0.  ,\n",
       "       0.  , 0.  , 0.  , 0.  , 0.  , 0.  , 0.  , 0.  , 0.  , 0.  , 0.  ,\n",
       "       0.  , 0.  , 0.  , 0.  , 0.  , 0.  , 0.  , 0.  , 0.  , 0.  , 0.  ,\n",
       "       0.  , 0.  , 0.  , 0.  , 0.  , 0.  , 0.  , 0.  , 0.  , 0.  , 0.  ,\n",
       "       0.  , 0.  , 0.  , 0.  , 0.  , 0.  , 0.  , 0.  , 0.  , 0.  , 0.  ,\n",
       "       0.  ])"
      ]
     },
     "execution_count": 14,
     "metadata": {},
     "output_type": "execute_result"
    }
   ],
   "source": [
    "agent2.policy[1, :]"
   ]
  },
  {
   "cell_type": "code",
   "execution_count": 36,
   "metadata": {},
   "outputs": [],
   "source": [
    "max_games = 10000\n",
    "env2 = GamblerEnv(ph=0.25)\n",
    "agent2_op = OffPolicyMonteCarloAgent(b=agent2.policy, epsilon=0.01)\n",
    "observation = env2.reset()\n",
    "randomPolicy = np.argmax(agent2_op.policy, axis=1)\n",
    "\n",
    "iterations = 0\n",
    "\n",
    "while iterations < max_games:\n",
    "    action = agent2_op.move(observation)\n",
    "    observation, reward, terminated = env2.step(action)\n",
    "    agent2_op.observeReward(reward)\n",
    "    if terminated:\n",
    "        agent2_op.update()\n",
    "        observation = env2.reset()\n",
    "        iterations += 1\n",
    "env2.close()"
   ]
  },
  {
   "cell_type": "code",
   "execution_count": 37,
   "metadata": {},
   "outputs": [
    {
     "data": {
      "text/plain": [
       "array([0., 0., 0., 0., 0., 0., 0., 0., 0., 0., 0., 0., 0., 0., 0., 0., 0.,\n",
       "       0., 0., 0., 0., 0., 0., 0., 0., 0., 0., 0., 0., 0., 0., 0., 0., 0.,\n",
       "       0., 0., 0., 0., 0., 0., 0., 0., 0., 0., 0., 0., 0., 0., 0., 0., 0.,\n",
       "       0., 0., 0., 0., 0., 0., 0., 0., 0., 0., 0., 0., 0., 0., 0., 0., 0.,\n",
       "       0., 0., 0., 0., 0., 0., 0., 0., 0., 0., 0., 0., 0., 0., 0., 0., 0.,\n",
       "       0., 0., 0., 0., 0., 0., 0., 0., 0., 0., 0., 0., 0., 0., 0.])"
      ]
     },
     "execution_count": 37,
     "metadata": {},
     "output_type": "execute_result"
    }
   ],
   "source": [
    "agent2_op.Q[1, :]"
   ]
  },
  {
   "cell_type": "code",
   "execution_count": 38,
   "metadata": {},
   "outputs": [
    {
     "data": {
      "text/plain": [
       "<BarContainer object of 101 artists>"
      ]
     },
     "execution_count": 38,
     "metadata": {},
     "output_type": "execute_result"
    },
    {
     "data": {
      "image/png": "[encoded data removed]",
      "text/plain": [
       "<Figure size 864x576 with 1 Axes>"
      ]
     },
     "metadata": {
      "needs_background": "light"
     },
     "output_type": "display_data"
    }
   ],
   "source": [
    "policy = np.argmax(agent2_op.policy, axis=1)\n",
    "fig, ax = plt.subplots(figsize=(12,8))\n",
    "ax.set_title(f\"Gambler's problem with chance of heads = {env2.ph} (ε-soft off-policy Monte carlo method with ε = {agent2_op.epsilon})\")\n",
    "ax.bar(np.arange(101),policy)"
   ]
  },
  {
   "cell_type": "code",
   "execution_count": 39,
   "metadata": {},
   "outputs": [
    {
     "data": {
      "text/plain": [
       "7"
      ]
     },
     "execution_count": 39,
     "metadata": {},
     "output_type": "execute_result"
    }
   ],
   "source": [
    "np.sum(randomPolicy == policy)"
   ]
  },
  {
   "cell_type": "code",
   "execution_count": null,
   "metadata": {},
   "outputs": [
    {
     "name": "stdout",
     "output_type": "stream",
     "text": [
      "Iteration 1000 done\n",
      "Iteration 2000 done\n",
      "Iteration 3000 done\n",
      "Iteration 4000 done\n",
      "Iteration 5000 done\n",
      "Iteration 6000 done\n",
      "Iteration 7000 done\n",
      "Iteration 8000 done\n",
      "Iteration 9000 done\n",
      "Iteration 10000 done\n"
     ]
    }
   ],
   "source": [
    "max_games = 10000\n",
    "env3 = GamblerEnv(ph=0.55)\n",
    "agent3 = MonteCarloAgent(epsilon=0.25)\n",
    "observation = env3.reset()\n",
    "randomPolicy = np.argmax(agent3.policy, axis=1)\n",
    "\n",
    "iterations = 0\n",
    "\n",
    "while iterations < max_games:\n",
    "    action = agent3.move(observation)\n",
    "    observation, reward, terminated = env3.step(action)\n",
    "    agent3.observeReward(reward)\n",
    "    if terminated:\n",
    "        agent3.update()\n",
    "        observation = env3.reset()\n",
    "        iterations += 1\n",
    "        if (iterations % 1000) == 0: print(f\"Iteration {iterations} done\")\n",
    "\n",
    "env3.close()"
   ]
  },
  {
   "cell_type": "code",
   "execution_count": null,
   "metadata": {},
   "outputs": [
    {
     "data": {
      "text/plain": [
       "<BarContainer object of 101 artists>"
      ]
     },
     "execution_count": 20,
     "metadata": {},
     "output_type": "execute_result"
    },
    {
     "data": {
      "image/png": "[encoded data removed]",
      "text/plain": [
       "<Figure size 864x576 with 1 Axes>"
      ]
     },
     "metadata": {
      "needs_background": "light"
     },
     "output_type": "display_data"
    }
   ],
   "source": [
    "policy = np.argmax(agent3.policy, axis=1)\n",
    "\n",
    "fig, ax = plt.subplots(figsize=(12,8))\n",
    "ax.set_title(f\"Gambler's problem with chance of heads = {env3.ph} (ε-soft Monte carlo method with ε = {agent3.epsilon})\")\n",
    "ax.bar(np.arange(101),policy)"
   ]
  },
  {
   "attachments": {},
   "cell_type": "markdown",
   "metadata": {},
   "source": [
    "Issue with the monte-carlo agents:\n",
    "\n",
    "Imagine this sequence:\n",
    "\n",
    "1. starting value is 40, random policy dictates that 0 is the action that should be selected\n",
    "2. (state: 40, action: 0)\n",
    "3. (state: 40, action: 0)\n",
    "4. (state: 40, action: 0)\n",
    "5. (state: 40, action: 0)\n",
    "6. ...\n",
    "7. (state: 40, action: 0)\n",
    "8. (state: 40, action: 23) randomly chosen due to a $\\epsilon$-soft policy\n",
    "9. (state: 63, action: ...)\n",
    "10. ...\n",
    "11. (state: 100, action: ...) reward = 1\n",
    "\n",
    "With an undiscounted first-visit MC-method the action will be rewarded and will likely remain the policy for the forseaable future even though it's a bad choice."
   ]
  }
 ],
 "metadata": {
  "kernelspec": {
   "display_name": "100days",
   "language": "python",
   "name": "python3"
  },
  "language_info": {
   "codemirror_mode": {
    "name": "ipython",
    "version": 3
   },
   "file_extension": ".py",
   "mimetype": "text/x-python",
   "name": "python",
   "nbconvert_exporter": "python",
   "pygments_lexer": "ipython3",
   "version": "3.9.7"
  },
  "orig_nbformat": 4,
  "vscode": {
   "interpreter": {
    "hash": "4fa3d1f19ce0a2744ad0252870780dce955792d6cac6f69ed8149f9e07fc8087"
   }
  }
 },
 "nbformat": 4,
 "nbformat_minor": 2
}
