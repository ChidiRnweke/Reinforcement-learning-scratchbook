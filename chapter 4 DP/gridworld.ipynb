{
 "cells": [
  {
   "cell_type": "code",
   "execution_count": 39,
   "metadata": {},
   "outputs": [],
   "source": [
    "import numpy as np\n",
    "import matplotlib.pyplot as plt"
   ]
  },
  {
   "cell_type": "code",
   "execution_count": 40,
   "metadata": {},
   "outputs": [],
   "source": [
    "stateValue = np.random.normal(size=(4,4))\n",
    "stateValue[3, 3] = 0    "
   ]
  },
  {
   "cell_type": "code",
   "execution_count": 41,
   "metadata": {},
   "outputs": [],
   "source": [
    "actions = np.array([[0,1], [1,0], [-1,0], [0,-1]]) # First index is up/down, second left/right"
   ]
  },
  {
   "cell_type": "code",
   "execution_count": 42,
   "metadata": {},
   "outputs": [],
   "source": [
    "policy = np.random.randint(4, size = (4, 4))"
   ]
  },
  {
   "cell_type": "code",
   "execution_count": 43,
   "metadata": {},
   "outputs": [],
   "source": [
    "rewards = np.ones((4,4)) * -1 # Every move is -1 except the ones that bring you in the terminal state.\n",
    "rewards[3,3] = 0"
   ]
  },
  {
   "cell_type": "code",
   "execution_count": 44,
   "metadata": {},
   "outputs": [],
   "source": [
    "def visualize_state_value(data):\n",
    "    fig, ax = plt.subplots(figsize=(8,8))\n",
    "    ax.matshow(data, cmap='seismic')\n",
    "    for (i, j), z in np.ndenumerate(data):\n",
    "        ax.text(j, i, '{:0.001f}'.format(z), ha='center', va='center',bbox=dict(boxstyle='round', facecolor='white', edgecolor='0.3'))"
   ]
  },
  {
   "cell_type": "code",
   "execution_count": 45,
   "metadata": {},
   "outputs": [],
   "source": [
    "def move_all(state, actions):\n",
    "    resultingStates = np.empty_like(actions)\n",
    "    for idx, action in enumerate(actions):\n",
    "        nextState = state + action\n",
    "        nextState = np.clip(nextState, a_min = 0, a_max=3)\n",
    "        resultingStates[idx] = nextState\n",
    "    return resultingStates\n",
    "    "
   ]
  },
  {
   "cell_type": "code",
   "execution_count": 46,
   "metadata": {},
   "outputs": [],
   "source": [
    "def move(state, policy, actions):\n",
    "    idx = policy[tuple(state)]\n",
    "    action = actions[idx].copy()\n",
    "    nextState = state + action\n",
    "    nextState = np.clip(nextState, a_min = 0, a_max=3)\n",
    "    return nextState\n",
    "    "
   ]
  },
  {
   "cell_type": "code",
   "execution_count": 47,
   "metadata": {},
   "outputs": [],
   "source": [
    "# Not used. Stochastic because the move_all() function is used. \n",
    "def stochasticPolicyEvaluation(stateValues, rewards, actions, discount, theta):\n",
    "    while True:\n",
    "        delta = 0\n",
    "        for i in reversed(range(len(stateValues))):\n",
    "            for j in reversed(range(len(stateValues))):\n",
    "                if (i,j) == (3,3): continue\n",
    "                currentValue = stateValues[i,j].copy()\n",
    "                currentState = np.array((i,j))\n",
    "                nextStates = move_all(currentState, actions)\n",
    "                nextRewards = np.array([rewards[tuple(state)] for state in nextStates])\n",
    "                nextStateValues = np.array([stateValues[tuple(state)] for state in nextStates])\n",
    "                stateValues[i,j] = np.sum(policy[i, j] * (nextRewards + discount * nextStateValues))\n",
    "                delta = np.max((delta, np.abs(currentValue - stateValue[i, j])))\n",
    "        print(\"iteration done!\")\n",
    "        if delta <= theta: break\n",
    "    return stateValues\n"
   ]
  },
  {
   "cell_type": "code",
   "execution_count": 48,
   "metadata": {},
   "outputs": [],
   "source": [
    "def policyEvaluation(stateValues, policy, rewards, actions, discount, theta, n_iter):\n",
    "    stateVals = stateValues.copy()\n",
    "    for i in range(n_iter):\n",
    "        delta = 0\n",
    "        for i in reversed(range(len(stateValues))):\n",
    "            for j in reversed(range(len(stateValues))):\n",
    "                if (i,j) == (3,3): continue\n",
    "                currentValue = stateVals[i,j].copy()\n",
    "                currentState = np.array((i,j))\n",
    "                nextState = move(currentState, policy, actions)\n",
    "                nextReward = rewards[tuple(nextState)]\n",
    "                nextStateValue = stateVals[tuple(nextState)]\n",
    "                stateVals[i,j] = nextReward + discount * nextStateValue\n",
    "                delta = np.max((delta, np.abs(currentValue - stateVals[i, j])))\n",
    "        if delta <= theta: break\n",
    "    return stateVals\n"
   ]
  },
  {
   "cell_type": "code",
   "execution_count": 49,
   "metadata": {},
   "outputs": [],
   "source": [
    "def policyImprovement(stateValues, policy, rewards, actions, discount):\n",
    "    policy_stable = True\n",
    "    newPolicy = policy.copy()\n",
    "    for i in range(len(stateValues)):\n",
    "        for j in range(len(stateValues)):\n",
    "            if (i,j) == (3,3): continue\n",
    "            currentAction = newPolicy[i, j].copy()\n",
    "            currentState = np.array((i,j))\n",
    "            nextStates = move_all(currentState, actions)\n",
    "            nextRewards = np.array([rewards[tuple(state)] for state in nextStates])\n",
    "            nextStateValues = np.array([stateValues[tuple(state)] for state in nextStates])\n",
    "            vals = nextRewards + discount  * nextStateValues\n",
    "            bestActions = np.flatnonzero(vals == np.max(vals))\n",
    "            bestAction = np.random.choice(bestActions) if len(bestActions) > 1 else bestActions[0]\n",
    "            newPolicy[i, j] = bestAction\n",
    "            policy_stable = True if currentAction == bestAction and policy_stable else False\n",
    "    return newPolicy, policy_stable"
   ]
  },
  {
   "cell_type": "code",
   "execution_count": 50,
   "metadata": {},
   "outputs": [],
   "source": [
    "def policyIteration(stateValues, policy, rewards, actions, discount, theta, n_iter):\n",
    "    while True:\n",
    "        stateValues = policyEvaluation(stateValues, policy, rewards, actions, discount, theta, n_iter)\n",
    "        policy, policy_stable  = policyImprovement(stateValues, policy, rewards, actions, discount)\n",
    "        if policy_stable: break\n",
    "    return stateValues, policy               "
   ]
  },
  {
   "cell_type": "code",
   "execution_count": 51,
   "metadata": {},
   "outputs": [],
   "source": [
    "convergedStateValue, optimalPolicy = policyIteration(stateValue, policy, rewards, actions, 1, 2, 10000)"
   ]
  },
  {
   "cell_type": "markdown",
   "metadata": {},
   "source": [
    "# Original state values and policy"
   ]
  },
  {
   "cell_type": "code",
   "execution_count": 52,
   "metadata": {},
   "outputs": [
    {
     "data": {
      "image/png": "[encoded data removed]",
      "text/plain": [
       "<Figure size 576x576 with 1 Axes>"
      ]
     },
     "metadata": {
      "needs_background": "light"
     },
     "output_type": "display_data"
    }
   ],
   "source": [
    "visualize_state_value(stateValue)   "
   ]
  },
  {
   "cell_type": "code",
   "execution_count": 53,
   "metadata": {},
   "outputs": [
    {
     "data": {
      "text/plain": [
       "array([['down', 'down', 'up', 'left'],\n",
       "       ['left', 'left', 'up', 'down'],\n",
       "       ['up', 'right', 'up', 'up'],\n",
       "       ['down', 'up', 'up', 'right']], dtype='<U5')"
      ]
     },
     "execution_count": 53,
     "metadata": {},
     "output_type": "execute_result"
    }
   ],
   "source": [
    "textMap = {0: \"right\",\n",
    "           1: \"down\",\n",
    "           2: \"up\",\n",
    "           3: \"left\"}\n",
    "\n",
    "policyText = []\n",
    "for action in np.nditer(policy):\n",
    "    policyText.append(textMap[int(action)])\n",
    "\n",
    "policyText = np.array(policyText).reshape(4,4)\n",
    "\n",
    "policyText"
   ]
  },
  {
   "cell_type": "markdown",
   "metadata": {},
   "source": [
    "# Converged state values and optimal policy"
   ]
  },
  {
   "cell_type": "code",
   "execution_count": 54,
   "metadata": {},
   "outputs": [
    {
     "data": {
      "image/png": "[encoded data removed]",
      "text/plain": [
       "<Figure size 576x576 with 1 Axes>"
      ]
     },
     "metadata": {
      "needs_background": "light"
     },
     "output_type": "display_data"
    }
   ],
   "source": [
    "visualize_state_value(convergedStateValue)"
   ]
  },
  {
   "cell_type": "code",
   "execution_count": 55,
   "metadata": {},
   "outputs": [
    {
     "data": {
      "text/plain": [
       "array([[ 0,  1],\n",
       "       [ 1,  0],\n",
       "       [-1,  0],\n",
       "       [ 0, -1]])"
      ]
     },
     "execution_count": 55,
     "metadata": {},
     "output_type": "execute_result"
    }
   ],
   "source": [
    "actions"
   ]
  },
  {
   "cell_type": "code",
   "execution_count": 56,
   "metadata": {},
   "outputs": [
    {
     "data": {
      "text/plain": [
       "array([['right', 'right', 'down', 'down'],\n",
       "       ['down', 'down', 'right', 'down'],\n",
       "       ['down', 'down', 'down', 'down'],\n",
       "       ['right', 'right', 'right', 'right']], dtype='<U5')"
      ]
     },
     "execution_count": 56,
     "metadata": {},
     "output_type": "execute_result"
    }
   ],
   "source": [
    "textMap = {0: \"right\",\n",
    "           1: \"down\",\n",
    "           2: \"up\",\n",
    "           3: \"left\"}\n",
    "\n",
    "policyText = []\n",
    "for action in np.nditer(optimalPolicy):\n",
    "    policyText.append(textMap[int(action)])\n",
    "\n",
    "policyText = np.array(policyText).reshape(4,4)\n",
    "\n",
    "policyText"
   ]
  }
 ],
 "metadata": {
  "kernelspec": {
   "display_name": "Python 3.6.13 ('FAI')",
   "language": "python",
   "name": "python3"
  },
  "language_info": {
   "codemirror_mode": {
    "name": "ipython",
    "version": 3
   },
   "file_extension": ".py",
   "mimetype": "text/x-python",
   "name": "python",
   "nbconvert_exporter": "python",
   "pygments_lexer": "ipython3",
   "version": "3.6.13 |Anaconda, Inc.| (default, Mar 16 2021, 11:37:27) [MSC v.1916 64 bit (AMD64)]"
  },
  "orig_nbformat": 4,
  "vscode": {
   "interpreter": {
    "hash": "3b619bdf7c8f989727024f2a39b7ed9d2e55b00e376f866fe080f51bce1702f9"
   }
  }
 },
 "nbformat": 4,
 "nbformat_minor": 2
}
