{
 "cells": [
  {
   "cell_type": "markdown",
   "metadata": {},
   "source": [
    "# Problem description"
   ]
  },
  {
   "cell_type": "markdown",
   "metadata": {},
   "source": [
    "Jack manages two locations for a nationwide car rental company. Each day, some number of customers arrive at each location to rent cars.\n",
    "If Jack has a car available, he rents it out and is credited €10 by the national company. If he is out of cars at that location, then the business is lost. Cars become available for renting the day after they are returned. To help ensure that cars are available where they are needed, Jack can move them between the two locations overnight, at a cost of € 2 per car moved. We assume that the number of cars requested and returned at each location are Poisson random variables, meaning that the probability that the number is\n",
    "n is $\\frac{\\lambda^n}{n!}e^{-\\lambda}$ , where $\\lambda$ is the expected number. Suppose $\\lambda$ is 3 and 4 for rental requests at the first and second locations and 3 and 2 for returns. To simplify the problem slightly, we assume that there can be no more than 20 cars at each location (any additional cars are returned to the nationwide company, and thus disappear from the problem) and a maximum of five cars can be moved from one location to the other in one night. We take the discount rate to be $\\gamma$ = 0.9 and formulate this as a continuing finite MDP, where  the time steps are days, the state is the number of cars at each location at the end of the day, and the actions are the net numbers of cars moved between the two locations\n",
    "overnight."
   ]
  },
  {
   "cell_type": "markdown",
   "metadata": {},
   "source": [
    "One of Jack’s employees at the first location\n",
    "rides a bus home each night and lives near the second location. She is happy to shuttle\n",
    "one car to the second location for free. Each additional car still costs $2, as do all cars\n",
    "moved in the other direction. In addition, Jack has limited parking space at each location.\n",
    "If more than 10 cars are kept overnight at a location (after any moving of cars), then an\n",
    "additional cost of $4 must be incurred to use a second parking lot (independent of how\n",
    "many cars are kept there)."
   ]
  },
  {
   "cell_type": "markdown",
   "metadata": {},
   "source": [
    "# Analysis"
   ]
  },
  {
   "cell_type": "markdown",
   "metadata": {},
   "source": [
    "1. Cars get returned: current state + returned\n",
    "2. Cars get requested: current state - requested => reward\n",
    "3. Cars can be moved: current state + action => reward\n",
    "4. t = t + 1"
   ]
  },
  {
   "cell_type": "markdown",
   "metadata": {},
   "source": [
    "$Q(s, a) = r + \\gamma G_{t}$"
   ]
  },
  {
   "cell_type": "markdown",
   "metadata": {},
   "source": [
    "In gridworld the focus was on policy iteration for estimating $\\pi \\approx \\pi_{*}$. The intuition there is that we estimate the state values under a given policy (policy evaluation). Afterwards we check if the current policy always selected the best actions, given the state values. If not we replace. We loop over this until we converge.\n",
    "\n",
    "\n",
    "$Q(s, \\pi(s)) = r + \\gamma G_{t}$\n",
    "\n",
    "$G_{t} = Q(s', \\pi(s'))$\n",
    "\n",
    "\n",
    "\n",
    "$r$ and $s'$ are not deterministic in this exercise. In this exercise the transition probabilities $p(s', r|s, a)$ play a central role. The requested and returned cars are poisson random variables which means that there is some randomness in this exercise that wasn't present in gridworld.  "
   ]
  },
  {
   "attachments": {},
   "cell_type": "markdown",
   "metadata": {},
   "source": [
    "# Implementation \n",
    "\n",
    "\n",
    "$ \\#Q(s, a) = 20 \\times 20 \\times 11$\n",
    "\n",
    "\n",
    "We will loop over every entry in Q(S, a) and set $Q(s, a) \\leftarrow \\sum_{s',r} p(s', r|s, a) [r + \\gamma Q(s',\\pi(s'))]$\n",
    "\n",
    "Using $\\frac{\\lambda^n}{n!}e^{-\\lambda}$ we can build $p(s', r|s, a)$ ahead of time. Essentially, the $s'$ part is a matrix that accounts for all the changes that can happen due to requests and returns. **I will not implement the model-based solution.** The matrix is stored in probabilityMatrix.npy\n",
    "\n",
    "A similar thing can be done for the reward. This maps every entry in the $Q$-matrix to a n-dimensional vector that holds all possible rewards. This should sum up to one as well. "
   ]
  },
  {
   "cell_type": "code",
   "execution_count": 2,
   "metadata": {},
   "outputs": [],
   "source": [
    "from CarRentalEnv import CarRentalEnv\n",
    "import numpy as np"
   ]
  },
  {
   "cell_type": "code",
   "execution_count": 3,
   "metadata": {},
   "outputs": [
    {
     "data": {
      "text/plain": [
       "array([14,  9])"
      ]
     },
     "execution_count": 3,
     "metadata": {},
     "output_type": "execute_result"
    }
   ],
   "source": [
    "env = CarRentalEnv()\n",
    "observation = env.reset()\n",
    "observation"
   ]
  },
  {
   "cell_type": "code",
   "execution_count": null,
   "metadata": {},
   "outputs": [],
   "source": [
    "iterations = 1000\n",
    "\n",
    "rewards = np.empty(iterations)\n",
    "for _ in range(iterations):\n",
    "\n",
    "    action = env.action_space.sample() \n",
    "    observation, reward, terminated, info = env.step(action)\n",
    "env.close()"
   ]
  }
 ],
 "metadata": {
  "kernelspec": {
   "display_name": "Python 3.9.7 ('100days')",
   "language": "python",
   "name": "python3"
  },
  "language_info": {
   "codemirror_mode": {
    "name": "ipython",
    "version": 3
   },
   "file_extension": ".py",
   "mimetype": "text/x-python",
   "name": "python",
   "nbconvert_exporter": "python",
   "pygments_lexer": "ipython3",
   "version": "3.9.7 (default, Sep 16 2021, 16:59:28) [MSC v.1916 64 bit (AMD64)]"
  },
  "orig_nbformat": 4,
  "vscode": {
   "interpreter": {
    "hash": "4fa3d1f19ce0a2744ad0252870780dce955792d6cac6f69ed8149f9e07fc8087"
   }
  }
 },
 "nbformat": 4,
 "nbformat_minor": 2
}
